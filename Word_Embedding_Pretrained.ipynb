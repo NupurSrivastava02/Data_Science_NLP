{
  "nbformat": 4,
  "nbformat_minor": 0,
  "metadata": {
    "colab": {
      "provenance": [],
      "gpuType": "T4"
    },
    "kernelspec": {
      "name": "python3",
      "display_name": "Python 3"
    },
    "language_info": {
      "name": "python"
    },
    "accelerator": "GPU"
  },
  "cells": [
    {
      "cell_type": "code",
      "execution_count": 9,
      "metadata": {
        "id": "kfmJxHmuoygH"
      },
      "outputs": [],
      "source": [
        "from gensim.models import KeyedVectors"
      ]
    },
    {
      "cell_type": "code",
      "source": [
        "!gdown https://drive.google.com/uc?id=1Yu33yzt9OlSFsIeLTsaxutrx_2iuEPRr"
      ],
      "metadata": {
        "colab": {
          "base_uri": "https://localhost:8080/"
        },
        "id": "ZDUHIm13o7UH",
        "outputId": "9f052bab-337a-477f-c14e-f7e30ae5fa02"
      },
      "execution_count": 10,
      "outputs": [
        {
          "output_type": "stream",
          "name": "stdout",
          "text": [
            "Downloading...\n",
            "From (original): https://drive.google.com/uc?id=1Yu33yzt9OlSFsIeLTsaxutrx_2iuEPRr\n",
            "From (redirected): https://drive.google.com/uc?id=1Yu33yzt9OlSFsIeLTsaxutrx_2iuEPRr&confirm=t&uuid=7b3e4c83-830a-46f4-9dcf-08c9f104d7b6\n",
            "To: /content/glove.6B.zip\n",
            "100% 862M/862M [00:11<00:00, 74.5MB/s]\n"
          ]
        }
      ]
    },
    {
      "cell_type": "code",
      "source": [
        "!unzip glove.6B.zip"
      ],
      "metadata": {
        "colab": {
          "base_uri": "https://localhost:8080/"
        },
        "id": "0PDwyUxvpBeI",
        "outputId": "d4142548-9863-4313-908b-8da522d69424"
      },
      "execution_count": 11,
      "outputs": [
        {
          "output_type": "stream",
          "name": "stdout",
          "text": [
            "Archive:  glove.6B.zip\n",
            "  inflating: glove.6B.50d.txt        \n",
            "  inflating: glove.6B.100d.txt       \n",
            "  inflating: glove.6B.200d.txt       \n",
            "  inflating: glove.6B.300d.txt       \n"
          ]
        }
      ]
    },
    {
      "cell_type": "code",
      "source": [
        "from gensim.scripts.glove2word2vec import glove2word2vec\n",
        "glove_input_file = 'glove.6B.100d.txt'\n",
        "word2vec_output_file = 'glove.6B.100d.txt.word2vec'\n",
        "glove2word2vec(glove_input_file, word2vec_output_file)"
      ],
      "metadata": {
        "colab": {
          "base_uri": "https://localhost:8080/"
        },
        "id": "eNAVhzUwpKAj",
        "outputId": "0eb2ab7e-f7ee-49e1-c4bc-cbce8629bedf"
      },
      "execution_count": 12,
      "outputs": [
        {
          "output_type": "stream",
          "name": "stderr",
          "text": [
            "<ipython-input-12-a593ee656d32>:4: DeprecationWarning: Call to deprecated `glove2word2vec` (KeyedVectors.load_word2vec_format(.., binary=False, no_header=True) loads GLoVE text vectors.).\n",
            "  glove2word2vec(glove_input_file, word2vec_output_file)\n"
          ]
        },
        {
          "output_type": "execute_result",
          "data": {
            "text/plain": [
              "(400000, 100)"
            ]
          },
          "metadata": {},
          "execution_count": 12
        }
      ]
    },
    {
      "cell_type": "code",
      "source": [
        "filename = 'glove.6B.100d.txt.word2vec'\n",
        "model = KeyedVectors.load_word2vec_format(filename, binary=False)"
      ],
      "metadata": {
        "id": "dx1DDhYYpRS3"
      },
      "execution_count": 13,
      "outputs": []
    },
    {
      "cell_type": "code",
      "source": [
        "model.get_vector('apple')"
      ],
      "metadata": {
        "colab": {
          "base_uri": "https://localhost:8080/"
        },
        "id": "tPSv-zedphtr",
        "outputId": "2ae6e0cd-0203-44f1-e6ff-41a847161361"
      },
      "execution_count": 15,
      "outputs": [
        {
          "output_type": "execute_result",
          "data": {
            "text/plain": [
              "array([-0.5985   , -0.46321  ,  0.13001  , -0.019576 ,  0.4603   ,\n",
              "       -0.3018   ,  0.8977   , -0.65634  ,  0.66858  , -0.49164  ,\n",
              "        0.037557 , -0.050889 ,  0.6451   , -0.53882  , -0.3765   ,\n",
              "       -0.04312  ,  0.51384  ,  0.17783  ,  0.28596  ,  0.92063  ,\n",
              "       -0.49349  , -0.48583  ,  0.61321  ,  0.78211  ,  0.19254  ,\n",
              "        0.91228  , -0.055596 , -0.12512  , -0.65688  ,  0.068557 ,\n",
              "        0.55629  ,  1.611    , -0.0073642, -0.48879  ,  0.45493  ,\n",
              "        0.96105  , -0.063369 ,  0.17432  ,  0.9814   , -1.3125   ,\n",
              "       -0.15801  , -0.54301  , -0.13888  , -0.26146  , -0.3691   ,\n",
              "        0.26844  , -0.24375  , -0.19484  ,  0.62583  , -0.7377   ,\n",
              "        0.38351  , -0.75004  , -0.39053  ,  0.091498 , -0.36591  ,\n",
              "       -1.4715   , -0.45228  ,  0.2256   ,  1.1412   , -0.38526  ,\n",
              "       -0.06716  ,  0.57288  , -0.39191  ,  0.31302  , -0.29235  ,\n",
              "       -0.96157  ,  0.15154  , -0.21659  ,  0.25103  ,  0.096967 ,\n",
              "        0.2843   ,  1.4296   , -0.50565  , -0.51374  , -0.47218  ,\n",
              "        0.32036  ,  0.023149 ,  0.22623  , -0.09725  ,  0.82126  ,\n",
              "        0.92599  , -1.0086   , -0.38639  ,  0.86408  , -1.206    ,\n",
              "       -0.28528  ,  0.2265   , -0.38773  ,  0.40879  ,  0.59303  ,\n",
              "        0.30769  ,  0.83804  , -0.63655  , -0.44639  , -0.43406  ,\n",
              "       -0.79364  , -0.28675  , -0.034398 ,  1.3431   ,  0.34904  ],\n",
              "      dtype=float32)"
            ]
          },
          "metadata": {},
          "execution_count": 15
        }
      ]
    },
    {
      "cell_type": "code",
      "source": [
        "model.most_similar('apple')"
      ],
      "metadata": {
        "colab": {
          "base_uri": "https://localhost:8080/"
        },
        "id": "tHWuZn53pvHP",
        "outputId": "55cc4520-6126-4745-fbc4-4aa6bc26b2e3"
      },
      "execution_count": 16,
      "outputs": [
        {
          "output_type": "execute_result",
          "data": {
            "text/plain": [
              "[('microsoft', 0.7449405193328857),\n",
              " ('ibm', 0.6821643114089966),\n",
              " ('intel', 0.6778088212013245),\n",
              " ('software', 0.6775422692298889),\n",
              " ('dell', 0.6741442680358887),\n",
              " ('pc', 0.6678153276443481),\n",
              " ('macintosh', 0.6617538332939148),\n",
              " ('iphone', 0.6595612168312073),\n",
              " ('ipod', 0.6534676551818848),\n",
              " ('hewlett', 0.6516579389572144)]"
            ]
          },
          "metadata": {},
          "execution_count": 16
        }
      ]
    },
    {
      "cell_type": "code",
      "source": [
        "model.most_similar('nupur')"
      ],
      "metadata": {
        "colab": {
          "base_uri": "https://localhost:8080/"
        },
        "id": "Y3CSi5QUJvAK",
        "outputId": "b968d1ec-6ccf-4c90-9285-a55f4fedc975"
      },
      "execution_count": 17,
      "outputs": [
        {
          "output_type": "execute_result",
          "data": {
            "text/plain": [
              "[('dolack', 0.694955587387085),\n",
              " ('tohei', 0.6928989887237549),\n",
              " ('ammu', 0.6853805780410767),\n",
              " ('saffy', 0.6756859421730042),\n",
              " ('brynhildr', 0.6754562258720398),\n",
              " ('utami', 0.6640444993972778),\n",
              " ('siryn', 0.6635429263114929),\n",
              " ('taani', 0.6627015471458435),\n",
              " ('guðrún', 0.6621860861778259),\n",
              " ('narcissa', 0.6614537239074707)]"
            ]
          },
          "metadata": {},
          "execution_count": 17
        }
      ]
    },
    {
      "cell_type": "code",
      "source": [
        "model.most_similar('sachin')"
      ],
      "metadata": {
        "colab": {
          "base_uri": "https://localhost:8080/"
        },
        "id": "vqz2FBh4LQIn",
        "outputId": "47b43804-b2e4-4ce1-de89-31aa58b2eba5"
      },
      "execution_count": 18,
      "outputs": [
        {
          "output_type": "execute_result",
          "data": {
            "text/plain": [
              "[('tendulkar', 0.9566043615341187),\n",
              " ('dravid', 0.8493621945381165),\n",
              " ('ganguly', 0.8388815522193909),\n",
              " ('sourav', 0.8290138244628906),\n",
              " ('rahul', 0.8217581510543823),\n",
              " ('virender', 0.8166211843490601),\n",
              " ('sehwag', 0.8133988976478577),\n",
              " ('laxman', 0.780633807182312),\n",
              " ('yuvraj', 0.7658401727676392),\n",
              " ('gambhir', 0.7519495487213135)]"
            ]
          },
          "metadata": {},
          "execution_count": 18
        }
      ]
    },
    {
      "cell_type": "code",
      "source": [
        "result = model.most_similar(positive=['woman', 'king']\n",
        "                            , negative=['man']\n",
        "                            , topn=3)\n",
        "result"
      ],
      "metadata": {
        "colab": {
          "base_uri": "https://localhost:8080/"
        },
        "id": "vhRllYSaLjE8",
        "outputId": "e177f6d0-82c0-41f3-c928-95174960b35a"
      },
      "execution_count": 19,
      "outputs": [
        {
          "output_type": "execute_result",
          "data": {
            "text/plain": [
              "[('queen', 0.7698540687561035),\n",
              " ('monarch', 0.6843381524085999),\n",
              " ('throne', 0.6755736470222473)]"
            ]
          },
          "metadata": {},
          "execution_count": 19
        }
      ]
    },
    {
      "cell_type": "code",
      "source": [
        "result = model.most_similar(positive=['aunt', 'mother'],\n",
        "                             negative =['father']\n",
        "                            , topn=3)"
      ],
      "metadata": {
        "id": "_9B9X2cYLqRp"
      },
      "execution_count": 22,
      "outputs": []
    },
    {
      "cell_type": "code",
      "source": [
        "result"
      ],
      "metadata": {
        "colab": {
          "base_uri": "https://localhost:8080/"
        },
        "id": "AM1P6gMBMC8I",
        "outputId": "f312ca00-1f7d-4734-d443-6a45e01df5fe"
      },
      "execution_count": 23,
      "outputs": [
        {
          "output_type": "execute_result",
          "data": {
            "text/plain": [
              "[('grandmother', 0.8080222010612488),\n",
              " ('mom', 0.713631808757782),\n",
              " ('niece', 0.7019093036651611)]"
            ]
          },
          "metadata": {},
          "execution_count": 23
        }
      ]
    },
    {
      "cell_type": "code",
      "source": [
        "result = model.most_similar(positive=['virat', 'tennis']\n",
        "                            , negative=['cricket']\n",
        "                            , topn=3)\n",
        "result"
      ],
      "metadata": {
        "colab": {
          "base_uri": "https://localhost:8080/"
        },
        "id": "LpVcq79DME5x",
        "outputId": "8cb68537-5b2d-4c4e-d4ef-4c464cda607a"
      },
      "execution_count": 25,
      "outputs": [
        {
          "output_type": "execute_result",
          "data": {
            "text/plain": [
              "[('kohli', 0.5208560824394226),\n",
              " ('petrova', 0.5157923698425293),\n",
              " ('ioka', 0.5156925320625305)]"
            ]
          },
          "metadata": {},
          "execution_count": 25
        }
      ]
    },
    {
      "cell_type": "code",
      "source": [
        "!gdown https://drive.google.com/uc?id=1tRCGr5S-LTfJfA3B_Sg6DqH2GHSCRHbm"
      ],
      "metadata": {
        "colab": {
          "base_uri": "https://localhost:8080/"
        },
        "id": "OJFq1TVKMQwR",
        "outputId": "52c4fcee-2236-4ddc-e853-1873d61a407d"
      },
      "execution_count": 26,
      "outputs": [
        {
          "output_type": "stream",
          "name": "stdout",
          "text": [
            "Downloading...\n",
            "From (original): https://drive.google.com/uc?id=1tRCGr5S-LTfJfA3B_Sg6DqH2GHSCRHbm\n",
            "From (redirected): https://drive.google.com/uc?id=1tRCGr5S-LTfJfA3B_Sg6DqH2GHSCRHbm&confirm=t&uuid=a81a9bae-0c9a-43d7-bd3d-d53db12ebe74\n",
            "To: /content/GoogleNews-vectors-negative300.bin.gz\n",
            "100% 1.65G/1.65G [00:31<00:00, 52.8MB/s]\n"
          ]
        }
      ]
    },
    {
      "cell_type": "code",
      "source": [
        "!gzip -d GoogleNews-vectors-negative300.bin.gz"
      ],
      "metadata": {
        "id": "a--_UyhVMZaB"
      },
      "execution_count": 27,
      "outputs": []
    },
    {
      "cell_type": "code",
      "source": [
        "filename = 'GoogleNews-vectors-negative300.bin'"
      ],
      "metadata": {
        "id": "b1HtSi5LMiy2"
      },
      "execution_count": 28,
      "outputs": []
    },
    {
      "cell_type": "code",
      "source": [
        "model = KeyedVectors.load_word2vec_format(filename, binary=True)"
      ],
      "metadata": {
        "id": "_9JhyFq7MvCG"
      },
      "execution_count": 29,
      "outputs": []
    },
    {
      "cell_type": "code",
      "source": [
        "model.most_similar('apples')"
      ],
      "metadata": {
        "colab": {
          "base_uri": "https://localhost:8080/"
        },
        "id": "27v-aKDGMxj1",
        "outputId": "e5e1a118-afb1-4333-e012-5ca683094184"
      },
      "execution_count": 30,
      "outputs": [
        {
          "output_type": "execute_result",
          "data": {
            "text/plain": [
              "[('apple', 0.7203598022460938),\n",
              " ('pears', 0.7059342265129089),\n",
              " ('oranges', 0.6965839862823486),\n",
              " ('peaches', 0.6782959699630737),\n",
              " ('cherries', 0.6512620449066162),\n",
              " ('berries', 0.6415327787399292),\n",
              " ('grapes', 0.6387811303138733),\n",
              " ('strawberries', 0.6334629058837891),\n",
              " ('Granny_Smiths', 0.630113422870636),\n",
              " ('fruit', 0.6161551475524902)]"
            ]
          },
          "metadata": {},
          "execution_count": 30
        }
      ]
    },
    {
      "cell_type": "code",
      "source": [
        "model.most_similar('apple')"
      ],
      "metadata": {
        "colab": {
          "base_uri": "https://localhost:8080/"
        },
        "id": "_TLrGl4lM_D8",
        "outputId": "fba31e47-6f71-4d2f-c6b8-b6159bba09e9"
      },
      "execution_count": 31,
      "outputs": [
        {
          "output_type": "execute_result",
          "data": {
            "text/plain": [
              "[('apples', 0.720359742641449),\n",
              " ('pear', 0.6450697183609009),\n",
              " ('fruit', 0.6410146355628967),\n",
              " ('berry', 0.6302295327186584),\n",
              " ('pears', 0.613396167755127),\n",
              " ('strawberry', 0.6058260798454285),\n",
              " ('peach', 0.6025872826576233),\n",
              " ('potato', 0.5960935354232788),\n",
              " ('grape', 0.5935863852500916),\n",
              " ('blueberry', 0.5866668224334717)]"
            ]
          },
          "metadata": {},
          "execution_count": 31
        }
      ]
    },
    {
      "cell_type": "code",
      "source": [
        "model.most_similar('Google')"
      ],
      "metadata": {
        "colab": {
          "base_uri": "https://localhost:8080/"
        },
        "id": "ZWD0DUtbNFkL",
        "outputId": "28caebbe-33bd-4b54-b1da-ee097b974e1a"
      },
      "execution_count": 37,
      "outputs": [
        {
          "output_type": "execute_result",
          "data": {
            "text/plain": [
              "[('Google_Nasdaq_GOOG', 0.7819362878799438),\n",
              " ('Google_GOOG', 0.7756521105766296),\n",
              " ('Google_NASDAQ_GOOG', 0.7557772397994995),\n",
              " ('Google_NSDQ_GOOG', 0.7538512349128723),\n",
              " ('Yahoo', 0.7491979598999023),\n",
              " ('GoogleGoogle', 0.7281472682952881),\n",
              " ('search_engine', 0.7255110740661621),\n",
              " ('Google_nasdaq_GOOG', 0.7014853358268738),\n",
              " ('Baidu', 0.6993466019630432),\n",
              " ('NASDAQ_GOOG', 0.6812566518783569)]"
            ]
          },
          "metadata": {},
          "execution_count": 37
        }
      ]
    },
    {
      "cell_type": "code",
      "source": [
        "model.most_similar('bus')"
      ],
      "metadata": {
        "colab": {
          "base_uri": "https://localhost:8080/"
        },
        "id": "5QKhTzAbNHio",
        "outputId": "f4d47d73-61ae-45c8-bacc-e1261198f3d1"
      },
      "execution_count": 39,
      "outputs": [
        {
          "output_type": "execute_result",
          "data": {
            "text/plain": [
              "[('buses', 0.8095911741256714),\n",
              " ('Bus', 0.7499595284461975),\n",
              " ('busses', 0.7404291033744812),\n",
              " ('minibus', 0.6746866703033447),\n",
              " ('Buses', 0.6629471778869629),\n",
              " ('schoolbus', 0.662819504737854),\n",
              " ('trolley', 0.6229304671287537),\n",
              " ('van', 0.6222773194313049),\n",
              " ('Greyhound_bus', 0.6167238354682922),\n",
              " ('taxi', 0.6101229786872864)]"
            ]
          },
          "metadata": {},
          "execution_count": 39
        }
      ]
    },
    {
      "cell_type": "code",
      "source": [
        "result = model.most_similar(positive=['woman', 'king']\n",
        "                            , negative=['man']\n",
        "                            , topn=3)\n",
        "result"
      ],
      "metadata": {
        "colab": {
          "base_uri": "https://localhost:8080/"
        },
        "id": "EYBs91ApNYkq",
        "outputId": "29254b38-2190-4489-c860-cb9887821748"
      },
      "execution_count": 40,
      "outputs": [
        {
          "output_type": "execute_result",
          "data": {
            "text/plain": [
              "[('queen', 0.7118193507194519),\n",
              " ('monarch', 0.6189674139022827),\n",
              " ('princess', 0.5902431011199951)]"
            ]
          },
          "metadata": {},
          "execution_count": 40
        }
      ]
    },
    {
      "cell_type": "code",
      "source": [
        "result = model.most_similar(positive=['sachin', 'tennis']\n",
        "                            , negative=['cricket']\n",
        "                            , topn=3)\n",
        "result"
      ],
      "metadata": {
        "colab": {
          "base_uri": "https://localhost:8080/"
        },
        "id": "uLraXhkCNemk",
        "outputId": "35d63929-62f7-43fd-9bc0-b331698afe2c"
      },
      "execution_count": 42,
      "outputs": [
        {
          "output_type": "execute_result",
          "data": {
            "text/plain": [
              "[('nadal', 0.6001622080802917),\n",
              " ('federer', 0.5613065958023071),\n",
              " ('Steffi_Graff', 0.5590043067932129)]"
            ]
          },
          "metadata": {},
          "execution_count": 42
        }
      ]
    },
    {
      "cell_type": "code",
      "source": [],
      "metadata": {
        "id": "EB0RFztyNiVZ"
      },
      "execution_count": null,
      "outputs": []
    }
  ]
}